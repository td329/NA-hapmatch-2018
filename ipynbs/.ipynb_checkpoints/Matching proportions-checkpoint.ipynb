{
 "cells": [
  {
   "cell_type": "markdown",
   "metadata": {},
   "source": [
    "## Matching proportions under delayed sampling"
   ]
  },
  {
   "cell_type": "code",
   "execution_count": null,
   "metadata": {
    "collapsed": true
   },
   "outputs": [],
   "source": [
    "from __future__ import division\n",
    "from __future__ import print_function\n",
    "\n",
    "import msprime as msp\n",
    "import numpy as np\n",
    "import matplotlib.pyplot as plt\n",
    "import seaborn as sns\n",
    "import random"
   ]
  },
  {
   "cell_type": "code",
   "execution_count": 5,
   "metadata": {
    "collapsed": true
   },
   "outputs": [],
   "source": [
    "def simulate_joint_mutation(Ne_ref, D, mu, length):\n",
    "    sample_time_1 = 0\n",
    "    sample_time_2 = D\n",
    "    \n",
    "    population_configurations = [\n",
    "        msp.PopulationConfiguration(initial_size=Ne_ref),\n",
    "    ]\n",
    "\n",
    "    samples = [msp.Sample(0, 0)]\n",
    "    samples.extend([msp.Sample(0, sample_time_1), msp.Sample(0, sample_time_1)])\n",
    "    samples.extend([msp.Sample(0, sample_time_2), msp.Sample(0, sample_time_2)])\n",
    "\n",
    "    return msp.simulate(\n",
    "        population_configurations=population_configurations, \n",
    "        mutation_rate=mu,\n",
    "        length = length,\n",
    "        samples=samples,\n",
    "    )\n"
   ]
  },
  {
   "cell_type": "code",
   "execution_count": 58,
   "metadata": {},
   "outputs": [
    {
     "name": "stdout",
     "output_type": "stream",
     "text": [
      "[1 1 1 0 0] 1\n",
      "[1 1 1 0 0] 1\n",
      "[1 1 0 0 0] 1\n",
      "[1 1 1 0 0] 1\n",
      "[1 1 0 0 1] 1\n",
      "[1 0 1 0 0] 1\n",
      "[1 1 1 0 0] 1\n",
      "[1 1 0 0 0] 1\n",
      "[1 1 0 0 0] 1\n",
      "[1 1 1 0 0] 1\n",
      "[1 0 1 0 0] 1\n",
      "[1 1 1 1 0] 1\n",
      "[1 1 1 0 1] 1\n",
      "[1 1 1 1 0] 1\n",
      "[1 1 1 0 0] 1\n"
     ]
    }
   ],
   "source": [
    "scores = []\n",
    "for i in range(1000):\n",
    "    sim = simulate_joint_mutation(1000, 320, 1e-8, 1e3)\n",
    "    t = sim.trees().next()\n",
    "    matches = []\n",
    "    for v in sim.variants():\n",
    "        x = None\n",
    "        geno = v.genotypes\n",
    "        \n",
    "        #TODO: mimic random sampling of reads\n",
    "        #TODO: Recombination for segment lengths \n",
    "        \n",
    "        g1 = random.choice(geno[1:3])\n",
    "        g2 = random.choice(geno[3:])\n",
    "        \n",
    "        if geno[0] != 1:\n",
    "            continue\n",
    "        elif g1==1 and g2==0:\n",
    "            x = 1\n",
    "        elif g1==1 and g2==0:\n",
    "            x = -1\n",
    "        \n",
    "        if x:\n",
    "            matches.append(x)\n",
    "            print(geno, x)\n",
    "\n",
    "\n",
    "    if 1 in matches and -1 in matches:\n",
    "        continue\n",
    "    else:\n",
    "        s = sum(matches)\n",
    "#         if s != 0: print(sum(matches))\n",
    "        if s != 0: scores.append(s)\n"
   ]
  },
  {
   "cell_type": "code",
   "execution_count": 46,
   "metadata": {},
   "outputs": [
    {
     "name": "stdout",
     "output_type": "stream",
     "text": [
      "149 85\n"
     ]
    },
    {
     "data": {
      "image/png": "[encoded data removed]",
      "text/plain": [
       "<matplotlib.figure.Figure at 0x7f4119974810>"
      ]
     },
     "metadata": {},
     "output_type": "display_data"
    }
   ],
   "source": [
    "s1 = [s for s in scores if s > 0]\n",
    "s2 = [-s for s in scores if s < 0]\n",
    "\n",
    "print(len(s1), len(s2))\n",
    "\n",
    "maximum = 15\n",
    "binwidth = 1\n",
    "\n",
    "plt.hist(s1, bins=np.arange(0, maximum + binwidth, binwidth), alpha = 0.5)\n",
    "plt.hist(s2, bins=np.arange(0, maximum + binwidth, binwidth), alpha = 0.5)\n",
    "\n",
    "plt.show()\n"
   ]
  }
 ],
 "metadata": {
  "kernelspec": {
   "display_name": "Python 2",
   "language": "python",
   "name": "python2"
  },
  "language_info": {
   "codemirror_mode": {
    "name": "ipython",
    "version": 2
   },
   "file_extension": ".py",
   "mimetype": "text/x-python",
   "name": "python",
   "nbconvert_exporter": "python",
   "pygments_lexer": "ipython2",
   "version": "2.7.12"
  }
 },
 "nbformat": 4,
 "nbformat_minor": 2
}
