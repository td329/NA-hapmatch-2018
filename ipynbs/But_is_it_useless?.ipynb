{
 "cells": [
  {
   "cell_type": "markdown",
   "metadata": {},
   "source": [
    "## What if we only counted shared private derived alleles?"
   ]
  },
  {
   "cell_type": "code",
   "execution_count": 1,
   "metadata": {
    "collapsed": true
   },
   "outputs": [],
   "source": [
    "from __future__ import division\n",
    "from __future__ import print_function"
   ]
  },
  {
   "cell_type": "code",
   "execution_count": 10,
   "metadata": {},
   "outputs": [
    {
     "name": "stdout",
     "output_type": "stream",
     "text": [
      "[2012, 1892, 2015, 2036] [1859, 1960, 1961, 1973]\n"
     ]
    }
   ],
   "source": [
    "anzick = [0,0,0,0]\n",
    "rm = [0,0,0,0]\n",
    "\n",
    "\n",
    "with open('../data/Surui_ref_anc_anzick_RM83_x75-mask_chr1.sites', 'r') as f:\n",
    "    f.next()\n",
    "    for l in f:\n",
    "        l = l.rstrip().split('\\t')\n",
    "        moderns = l[1:5]\n",
    "        ref = l[5]\n",
    "        anc = l[6]\n",
    "        anz_al = l[7]\n",
    "        rm_al = l[8]\n",
    "        \n",
    "        for i, m in enumerate(moderns):\n",
    "            if m == '.':\n",
    "                continue\n",
    "            if m == 'R':\n",
    "                m = ref\n",
    "            if m == anc:\n",
    "                continue\n",
    "            if m == anz_al:\n",
    "                anzick[i] += 1\n",
    "            elif m == rm_al:\n",
    "                rm[i] += 1\n",
    "\n",
    "\n",
    "print(anzick, rm)\n",
    "        "
   ]
  },
  {
   "cell_type": "markdown",
   "metadata": {},
   "source": [
    "In this case, seems like it might be. At the very least it adds no information which wasn't already there in a simple count of the derived alleles shared.\n",
    "\n",
    "... Actually, the question is whether we could guess that at the beginning. I'd say not."
   ]
  }
 ],
 "metadata": {
  "kernelspec": {
   "display_name": "Python 2",
   "language": "python",
   "name": "python2"
  },
  "language_info": {
   "codemirror_mode": {
    "name": "ipython",
    "version": 2
   },
   "file_extension": ".py",
   "mimetype": "text/x-python",
   "name": "python",
   "nbconvert_exporter": "python",
   "pygments_lexer": "ipython2",
   "version": "2.7.12"
  }
 },
 "nbformat": 4,
 "nbformat_minor": 2
}
